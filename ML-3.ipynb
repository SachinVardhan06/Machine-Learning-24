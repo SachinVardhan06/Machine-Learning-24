{
 "cells": [
  {
   "cell_type": "code",
   "execution_count": 50,
   "id": "8cb2efea",
   "metadata": {},
   "outputs": [],
   "source": [
    "# Logistic Regression\n",
    "\n",
    "import numpy as np\n",
    "\n",
    "class OurLogisticRegression:\n",
    "    def _init_(self,alpha=.001,iters=1000):\n",
    "        self.alpha = alpha\n",
    "        self.iters = iters\n",
    "        self.weights = None\n",
    "        self.bias = None\n",
    "    \n",
    "    \n",
    "        def fit(self,X,y):\n",
    "            n_samples,n_features = X.shape\n",
    "            self.weight = np.zeros(n_features)\n",
    "            self.bias = 0\n",
    "        \n",
    "        for i in range(self.iters):\n",
    "            y_predicted = np.dot(X,self.weight)+self.bias\n",
    "            y_predicted = sigmoid(y_predicted)\n",
    "            \n",
    "            dj_dw = (1/n_samples)*np.dot(X.T(y_predicted-y))\n",
    "            dj_db = (1/n_samples)*np.sum((y_predicted-y))\n",
    "            \n",
    "            self.weights = self.wights-self.alpha*dj_dw\n",
    "            self.bias = self.bias-self.alpha*dj_db\n",
    "            \n",
    "        def predict(self,X):\n",
    "            y_predicted = np.dot(X.self.weights)+self.bias\n",
    "            return sigmoid(y_predicted)\n",
    "        "
   ]
  },
  {
   "cell_type": "code",
   "execution_count": 49,
   "id": "ebb6cc93",
   "metadata": {},
   "outputs": [],
   "source": [
    "X = np.array([1,2,3])\n",
    "y = np.array([[1,2,3],[4,5,6],[7,8,9]])\n",
    "z = np.dot(x,y)+3"
   ]
  },
  {
   "cell_type": "code",
   "execution_count": 45,
   "id": "9523b2b3",
   "metadata": {},
   "outputs": [],
   "source": [
    "def sigmoid(z):\n",
    "    return 1/(1+np.exp(-z))"
   ]
  },
  {
   "cell_type": "code",
   "execution_count": 46,
   "id": "701472ad",
   "metadata": {
    "scrolled": true
   },
   "outputs": [
    {
     "data": {
      "text/plain": [
       "array([1., 1., 1.])"
      ]
     },
     "execution_count": 46,
     "metadata": {},
     "output_type": "execute_result"
    }
   ],
   "source": [
    "prediction = sigmoid(z)\n",
    "prediction"
   ]
  },
  {
   "cell_type": "code",
   "execution_count": 47,
   "id": "c241c330",
   "metadata": {
    "scrolled": false
   },
   "outputs": [
    {
     "data": {
      "text/plain": [
       "0.9525741268224334"
      ]
     },
     "execution_count": 47,
     "metadata": {},
     "output_type": "execute_result"
    }
   ],
   "source": [
    "prediction1 = sigmoid(3)\n",
    "prediction1"
   ]
  },
  {
   "cell_type": "code",
   "execution_count": 48,
   "id": "11ce587c",
   "metadata": {},
   "outputs": [
    {
     "data": {
      "text/plain": [
       "0.04742587317756678"
      ]
     },
     "execution_count": 48,
     "metadata": {},
     "output_type": "execute_result"
    }
   ],
   "source": [
    "prediction1 = sigmoid(-3)\n",
    "prediction1"
   ]
  }
 ],
 "metadata": {
  "kernelspec": {
   "display_name": "Python 3 (ipykernel)",
   "language": "python",
   "name": "python3"
  },
  "language_info": {
   "codemirror_mode": {
    "name": "ipython",
    "version": 3
   },
   "file_extension": ".py",
   "mimetype": "text/x-python",
   "name": "python",
   "nbconvert_exporter": "python",
   "pygments_lexer": "ipython3",
   "version": "3.9.12"
  }
 },
 "nbformat": 4,
 "nbformat_minor": 5
}
